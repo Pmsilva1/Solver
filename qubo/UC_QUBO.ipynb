{
  "nbformat": 4,
  "nbformat_minor": 0,
  "metadata": {
    "colab": {
      "name": "UC_QUBO.ipynb",
      "provenance": [],
      "collapsed_sections": []
    },
    "kernelspec": {
      "name": "python3",
      "display_name": "Python 3"
    }
  },
  "cells": [
    {
      "cell_type": "code",
      "metadata": {
        "colab": {
          "base_uri": "https://localhost:8080/"
        },
        "id": "NMQQ4jyr7lbH",
        "outputId": "bb467ec7-3cbe-4df0-8c70-a7c876387fd6"
      },
      "source": [
        "!pip3 install blueqat\r\n",
        "!pip3 install dwave-cloud-client"
      ],
      "execution_count": 71,
      "outputs": [
        {
          "output_type": "stream",
          "text": [
            "Requirement already satisfied: blueqat in /usr/local/lib/python3.7/dist-packages (0.3.18)\n",
            "Requirement already satisfied: scipy>=1.1.0 in /usr/local/lib/python3.7/dist-packages (from blueqat) (1.4.1)\n",
            "Requirement already satisfied: numpy~=1.12 in /usr/local/lib/python3.7/dist-packages (from blueqat) (1.19.5)\n",
            "Collecting dwave-cloud-client\n",
            "\u001b[?25l  Downloading https://files.pythonhosted.org/packages/59/fb/252345f02bc39d8d87861434429e8a440cb1bb71af30a6859be2350ef94a/dwave_cloud_client-0.8.4-py3-none-any.whl (87kB)\n",
            "\u001b[K     |████████████████████████████████| 92kB 3.7MB/s \n",
            "\u001b[?25hCollecting homebase>=1.0\n",
            "  Downloading https://files.pythonhosted.org/packages/50/ad/e0080c35bd177682d5118a95bc2e7c1ac0541394b4ffce5e9554b6a077f9/homebase-1.0.1-py2.py3-none-any.whl\n",
            "Requirement already satisfied: python-dateutil>=2.7 in /usr/local/lib/python3.7/dist-packages (from dwave-cloud-client) (2.8.1)\n",
            "Collecting plucky>=0.4.3\n",
            "  Downloading https://files.pythonhosted.org/packages/d8/70/7b43e7280284bafecb345f4edb3eea7042cf0d089c5d112920eda650fda5/plucky-0.4.3-py2.py3-none-any.whl\n",
            "Requirement already satisfied: click>=7.0 in /usr/local/lib/python3.7/dist-packages (from dwave-cloud-client) (7.1.2)\n",
            "Requirement already satisfied: requests[socks]>=2.18 in /usr/local/lib/python3.7/dist-packages (from dwave-cloud-client) (2.23.0)\n",
            "Requirement already satisfied: six>=1.5 in /usr/local/lib/python3.7/dist-packages (from python-dateutil>=2.7->dwave-cloud-client) (1.15.0)\n",
            "Requirement already satisfied: urllib3!=1.25.0,!=1.25.1,<1.26,>=1.21.1 in /usr/local/lib/python3.7/dist-packages (from requests[socks]>=2.18->dwave-cloud-client) (1.24.3)\n",
            "Requirement already satisfied: certifi>=2017.4.17 in /usr/local/lib/python3.7/dist-packages (from requests[socks]>=2.18->dwave-cloud-client) (2020.12.5)\n",
            "Requirement already satisfied: idna<3,>=2.5 in /usr/local/lib/python3.7/dist-packages (from requests[socks]>=2.18->dwave-cloud-client) (2.10)\n",
            "Requirement already satisfied: chardet<4,>=3.0.2 in /usr/local/lib/python3.7/dist-packages (from requests[socks]>=2.18->dwave-cloud-client) (3.0.4)\n",
            "Requirement already satisfied: PySocks!=1.5.7,>=1.5.6; extra == \"socks\" in /usr/local/lib/python3.7/dist-packages (from requests[socks]>=2.18->dwave-cloud-client) (1.7.1)\n",
            "Installing collected packages: homebase, plucky, dwave-cloud-client\n",
            "Successfully installed dwave-cloud-client-0.8.4 homebase-1.0.1 plucky-0.4.3\n"
          ],
          "name": "stdout"
        }
      ]
    },
    {
      "cell_type": "code",
      "metadata": {
        "id": "uOpnymOU8vq3"
      },
      "source": [
        "import matplotlib.pyplot as plt\r\n",
        "plt.style.use('seaborn')\r\n",
        "\r\n",
        "import blueqat.wq as wq\r\n",
        "import numpy as np\r\n",
        "np.set_printoptions(edgeitems=70)\r\n",
        "np.core.arrayprint._line_width = 500\r\n",
        "\r\n",
        "import time\r\n",
        "import PIL.Image\r\n",
        "import IPython.display"
      ],
      "execution_count": 29,
      "outputs": []
    },
    {
      "cell_type": "code",
      "metadata": {
        "id": "bJs0W9VK82XL"
      },
      "source": [
        "a = wq.Opt()\r\n",
        "#for sa\r\n",
        "a.Ts  = 5    #default 5\r\n",
        "a.R   = 0.95  #default 0.95\r\n",
        "a.ite = 1000 #default 1000"
      ],
      "execution_count": 30,
      "outputs": []
    },
    {
      "cell_type": "code",
      "metadata": {
        "id": "J5Kalrpy8pfP"
      },
      "source": [
        "U = 10 # number of units\r\n",
        "N = 5 # number of grids\r\n",
        "\r\n",
        "a.qubo = np.zeros((U*N,U*N), dtype=int) #creating QUBO matrix\r\n",
        "\r\n",
        "A = [5,3,5,10,20,35,10,50,100,25]\r\n",
        "B = [0.1,0.2,0.4,0.2,0.3,0.2,0.3,0.1,0.2,0.3]\r\n",
        "C = [0.01,0.02,0.3,0.2,0.01,0.02,0.03,0.05,0.09,0.05]\r\n",
        "\r\n",
        "demand = 100\r\n",
        "Pmin = [4,5,10,6,1,25,50,3,5,20]\r\n",
        "Pmax = [25,20,30,20,10,50,100,30,45,60]\r\n",
        "\r\n",
        "def hi(i):\r\n",
        "  return (Pmax[i]-Pmin[i])/N\r\n",
        "\r\n",
        "def prod(i,k):\r\n",
        "  return (Pmin[i]+(k)*hi(i))\r\n",
        "\r\n",
        "# objective function\r\n",
        "for i in range(0,U):\r\n",
        "  for k in range(0,N):\r\n",
        "    a.qubo[i*N+k][i*N+k] = A[i] + B[i]*prod(i,k) + C[i]*prod(i,k)**2\r\n",
        "\r\n",
        "delta_A = 3000\r\n",
        "delta_B = 5\r\n",
        "additive = 0\r\n",
        "\r\n",
        "# restriction 1\r\n",
        "for i in range(0,U):\r\n",
        "  for k in range(0,N):\r\n",
        "    a.qubo[i*N+k][i*N+k] += delta_A*(1)  # 1**2\r\n",
        "    a.qubo[i*N+k][i*N+k] += delta_A*(-2) # -2*1\r\n",
        "    for kk in range(k+1,N):    \r\n",
        "      a.qubo[i*N+k][i*N+kk] += delta_A*(2) # 2*1*1\r\n",
        "  additive += delta_A*(1**2)\r\n",
        "\r\n",
        "# restriction 2\r\n",
        "for i in range(0,U):\r\n",
        "  for k in range(0,N):\r\n",
        "    a.qubo[i*N+k][i*N+k] += delta_B*(prod(i,k)**2)\r\n",
        "    a.qubo[i*N+k][i*N+k] += delta_B*(-2*demand*prod(i,k))\r\n",
        "    for ii in range(i,U):\r\n",
        "      for kk in range(0,N):\r\n",
        "        if ii == i and k > kk: continue        \r\n",
        "        a.qubo[i*N+k][ii*N+kk] += delta_B*(2*prod(i,k)*prod(ii,kk))\r\n",
        "\r\n",
        "additive += delta_B*(demand**2)"
      ],
      "execution_count": 69,
      "outputs": []
    },
    {
      "cell_type": "code",
      "metadata": {
        "id": "TdbhqdnY8J5p"
      },
      "source": [
        "#print(additive)\r\n",
        "#print(a.qubo)\r\n",
        "from matplotlib.pyplot import imshow\r\n",
        "%matplotlib inline\r\n",
        "\r\n",
        "#image is a numpy array\r\n",
        "imshow(a.qubo)"
      ],
      "execution_count": null,
      "outputs": []
    },
    {
      "cell_type": "code",
      "metadata": {
        "colab": {
          "base_uri": "https://localhost:8080/"
        },
        "id": "x35yG_q89zo7",
        "outputId": "7951823a-6b38-412f-baf8-72903fc01193"
      },
      "source": [
        "timer = time.perf_counter()\r\n",
        "result = a.sa(sampler=\"fast\") #sampler=\"fast\", shots = 100\r\n",
        "timer = time.perf_counter() - timer \r\n",
        "print(f\"took {timer:.3f}s\\n\")\r\n",
        "format_result = np.array_split(result, U)\r\n",
        "\r\n",
        "for i in range(0,U):\r\n",
        "  print(format_result[i])\r\n",
        "\r\n",
        "print(\"\\nEnergy: \" + str(a.E[-1]))\r\n",
        "print(\"Energy w/ additive: \" + str(a.E[-1] + additive))"
      ],
      "execution_count": 70,
      "outputs": [
        {
          "output_type": "stream",
          "text": [
            "took 0.068s\n",
            "\n",
            "[1 0 0 0 0]\n",
            "[0 0 0 1 0]\n",
            "[0 0 1 0 0]\n",
            "[0 0 0 1 0]\n",
            "[0 0 0 0 1]\n",
            "[0 0 0 0 0]\n",
            "[0 0 0 0 0]\n",
            "[0 0 1 0 0]\n",
            "[0 1 0 0 0]\n",
            "[0 0 0 0 0]\n",
            "\n",
            "Energy: -57855.0\n",
            "Energy w/ additive: 22145.0\n"
          ],
          "name": "stdout"
        }
      ]
    },
    {
      "cell_type": "code",
      "metadata": {
        "colab": {
          "base_uri": "https://localhost:8080/",
          "height": 276
        },
        "id": "TtQ3O1jo9Kba",
        "outputId": "b5767dfe-7378-488d-8c32-d3a22a9eb25a"
      },
      "source": [
        "#print(wq.counter(result))\r\n",
        "plt.plot(a.E, label=\"energy\")\r\n",
        "plt.legend()\r\n",
        "plt.show()"
      ],
      "execution_count": 43,
      "outputs": [
        {
          "output_type": "display_data",
          "data": {
            "image/png": "[encoded data removed]",
            "text/plain": [
              "<Figure size 432x288 with 1 Axes>"
            ]
          },
          "metadata": {
            "tags": [],
            "needs_background": "light"
          }
        }
      ]
    },
    {
      "cell_type": "code",
      "metadata": {
        "id": "rIKspsPnR7AB"
      },
      "source": [
        "# D-wave\r\n",
        "a.dwavetoken = \"your token here\"\r\n",
        "a.dw()"
      ],
      "execution_count": null,
      "outputs": []
    }
  ]
}